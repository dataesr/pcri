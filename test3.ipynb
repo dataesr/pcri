{
 "cells": [
  {
   "cell_type": "code",
   "execution_count": 51,
   "id": "08ef7d0b",
   "metadata": {},
   "outputs": [],
   "source": [
    "import pandas as pd, json\n",
    "from config_path import *\n",
    "projects = pd.read_pickle(f\"{PATH_CLEAN}projects_current.pkl\")\n",
    "x=projects.loc[(projects.thema_code=='MSCA')&(projects.destination_code.isin(['DN', 'PF']))&(~projects.panel_code.isnull()), ['abstract', 'acronym', 'free_keywords', 'project_id', 'panel_code',  'title', 'topic_code', 'topic_name']].drop_duplicates()\n",
    "panel=x.panel_code.unique()\n",
    "msca_key = json.load(open(\"data_files/msca_keywords.json\", encoding='utf-8'))\n",
    "msca_key=pd.json_normalize(msca_key)"
   ]
  },
  {
   "cell_type": "code",
   "execution_count": 57,
   "id": "1756f3e9",
   "metadata": {},
   "outputs": [],
   "source": [
    "def clean_keyword(keyword):\n",
    "    import re\n",
    "    # Convertir en minuscules\n",
    "    keyword = keyword.lower().replace(\"&\", \"and\")\n",
    "    # Supprimer les caractères spéciaux\n",
    "    keyword = re.sub(r'[^a-zA-Z0-9\\s]', ' ', keyword)\n",
    "    return keyword\n"
   ]
  },
  {
   "cell_type": "code",
   "execution_count": 59,
   "id": "983e6e21",
   "metadata": {},
   "outputs": [
    {
     "name": "stderr",
     "output_type": "stream",
     "text": [
      "C:\\Users\\zfriant\\AppData\\Local\\Temp\\ipykernel_26000\\905271631.py:5: SettingWithCopyWarning: \n",
      "A value is trying to be set on a copy of a slice from a DataFrame.\n",
      "Try using .loc[row_indexer,col_indexer] = value instead\n",
      "\n",
      "See the caveats in the documentation: https://pandas.pydata.org/pandas-docs/stable/user_guide/indexing.html#returning-a-view-versus-a-copy\n",
      "  df['free_keyw'] = df['free_keywords'].apply(lambda x: [clean_keyword(kw) for kw in str(x).split('|')])\n"
     ]
    },
    {
     "data": {
      "text/plain": [
       "Index(['panel_regroupement_code', 'panel_regroupement_name', 'panel_code_1',\n",
       "       'panel_name_1', 'panel_keywords'],\n",
       "      dtype='object')"
      ]
     },
     "execution_count": 59,
     "metadata": {},
     "output_type": "execute_result"
    }
   ],
   "source": [
    "from functions_shared import prep_str_col, work_csv\n",
    "df = x[['project_id', 'panel_code', 'free_keywords', 'abstract']]\n",
    "\n",
    "df.loc[~df.abstract.isnull(), 'abstract'] = df.loc[~df.abstract.isnull(), 'abstract'].apply(lambda x: clean_keyword(x))\n",
    "df['free_keyw'] = df['free_keywords'].apply(lambda x: [clean_keyword(kw) for kw in str(x).split('|')])\n",
    "df = df.explode('free_keywords')\n",
    "\n",
    "msca_key['panel_keywords'] = msca_key['panel_keywords'].apply(lambda x: clean_keyword(x))\n",
    "msca_key.columns  \n",
    "    \n",
    "\n",
    "#     for i in msca_keywords:\n",
    "#         if i.get('panel_regroupement_code') == p:\n",
    "\n",
    "#             for c, row in df.iterrows():\n",
    "#                 str1 = row..lower()\n",
    "#                 str2 = \"chemistry che\"\n",
    "\n",
    "#                 score = fuzz.ratio(str1, str2)\n",
    "#                 print(f\"Match score: {score}\")"
   ]
  },
  {
   "cell_type": "code",
   "execution_count": 60,
   "id": "4e589087",
   "metadata": {},
   "outputs": [],
   "source": [
    "from fuzzywuzzy import fuzz\n",
    "def fuzzy_match(word, panel_keywords_series):\n",
    "    best_match = None\n",
    "    highest_score = 0\n",
    "    for panel_keyword in panel_keywords_series:\n",
    "        score = fuzz.token_set_ratio(word, panel_keyword)\n",
    "        if score > highest_score:\n",
    "            highest_score = score\n",
    "            best_match = panel_keyword\n",
    "    return best_match if highest_score > 80 else None  # Seuil de correspondance\n",
    "\n",
    "# Appliquer le matching flou\n",
    "# df['matched_panel_keyword'] = df['free_keywords'].apply(lambda x: fuzzy_match(x, msca_key['panel_keywords']))"
   ]
  },
  {
   "cell_type": "code",
   "execution_count": 61,
   "id": "3813088a",
   "metadata": {},
   "outputs": [
    {
     "name": "stdout",
     "output_type": "stream",
     "text": [
      "CHE\n"
     ]
    },
    {
     "name": "stderr",
     "output_type": "stream",
     "text": [
      "C:\\Users\\zfriant\\AppData\\Local\\Temp\\ipykernel_26000\\511969227.py:5: SettingWithCopyWarning: \n",
      "A value is trying to be set on a copy of a slice from a DataFrame.\n",
      "Try using .loc[row_indexer,col_indexer] = value instead\n",
      "\n",
      "See the caveats in the documentation: https://pandas.pydata.org/pandas-docs/stable/user_guide/indexing.html#returning-a-view-versus-a-copy\n",
      "  d['matched_panel_keyword'] = d['free_keywords'].apply(lambda x: fuzzy_match(x, m['panel_keywords']))\n",
      "C:\\Users\\zfriant\\AppData\\Local\\Temp\\ipykernel_26000\\511969227.py:6: SettingWithCopyWarning: \n",
      "A value is trying to be set on a copy of a slice from a DataFrame.\n",
      "Try using .loc[row_indexer,col_indexer] = value instead\n",
      "\n",
      "See the caveats in the documentation: https://pandas.pydata.org/pandas-docs/stable/user_guide/indexing.html#returning-a-view-versus-a-copy\n",
      "  d['matched_abstract'] = d['abstract'].apply(lambda x: fuzzy_match(x, m['panel_keywords']))\n"
     ]
    },
    {
     "name": "stdout",
     "output_type": "stream",
     "text": [
      "SOC\n"
     ]
    },
    {
     "name": "stderr",
     "output_type": "stream",
     "text": [
      "C:\\Users\\zfriant\\AppData\\Local\\Temp\\ipykernel_26000\\511969227.py:5: SettingWithCopyWarning: \n",
      "A value is trying to be set on a copy of a slice from a DataFrame.\n",
      "Try using .loc[row_indexer,col_indexer] = value instead\n",
      "\n",
      "See the caveats in the documentation: https://pandas.pydata.org/pandas-docs/stable/user_guide/indexing.html#returning-a-view-versus-a-copy\n",
      "  d['matched_panel_keyword'] = d['free_keywords'].apply(lambda x: fuzzy_match(x, m['panel_keywords']))\n",
      "C:\\Users\\zfriant\\AppData\\Local\\Temp\\ipykernel_26000\\511969227.py:6: SettingWithCopyWarning: \n",
      "A value is trying to be set on a copy of a slice from a DataFrame.\n",
      "Try using .loc[row_indexer,col_indexer] = value instead\n",
      "\n",
      "See the caveats in the documentation: https://pandas.pydata.org/pandas-docs/stable/user_guide/indexing.html#returning-a-view-versus-a-copy\n",
      "  d['matched_abstract'] = d['abstract'].apply(lambda x: fuzzy_match(x, m['panel_keywords']))\n"
     ]
    },
    {
     "name": "stdout",
     "output_type": "stream",
     "text": [
      "ENG\n"
     ]
    },
    {
     "name": "stderr",
     "output_type": "stream",
     "text": [
      "C:\\Users\\zfriant\\AppData\\Local\\Temp\\ipykernel_26000\\511969227.py:5: SettingWithCopyWarning: \n",
      "A value is trying to be set on a copy of a slice from a DataFrame.\n",
      "Try using .loc[row_indexer,col_indexer] = value instead\n",
      "\n",
      "See the caveats in the documentation: https://pandas.pydata.org/pandas-docs/stable/user_guide/indexing.html#returning-a-view-versus-a-copy\n",
      "  d['matched_panel_keyword'] = d['free_keywords'].apply(lambda x: fuzzy_match(x, m['panel_keywords']))\n",
      "C:\\Users\\zfriant\\AppData\\Local\\Temp\\ipykernel_26000\\511969227.py:6: SettingWithCopyWarning: \n",
      "A value is trying to be set on a copy of a slice from a DataFrame.\n",
      "Try using .loc[row_indexer,col_indexer] = value instead\n",
      "\n",
      "See the caveats in the documentation: https://pandas.pydata.org/pandas-docs/stable/user_guide/indexing.html#returning-a-view-versus-a-copy\n",
      "  d['matched_abstract'] = d['abstract'].apply(lambda x: fuzzy_match(x, m['panel_keywords']))\n"
     ]
    },
    {
     "name": "stdout",
     "output_type": "stream",
     "text": [
      "PHY\n"
     ]
    },
    {
     "name": "stderr",
     "output_type": "stream",
     "text": [
      "C:\\Users\\zfriant\\AppData\\Local\\Temp\\ipykernel_26000\\511969227.py:5: SettingWithCopyWarning: \n",
      "A value is trying to be set on a copy of a slice from a DataFrame.\n",
      "Try using .loc[row_indexer,col_indexer] = value instead\n",
      "\n",
      "See the caveats in the documentation: https://pandas.pydata.org/pandas-docs/stable/user_guide/indexing.html#returning-a-view-versus-a-copy\n",
      "  d['matched_panel_keyword'] = d['free_keywords'].apply(lambda x: fuzzy_match(x, m['panel_keywords']))\n",
      "C:\\Users\\zfriant\\AppData\\Local\\Temp\\ipykernel_26000\\511969227.py:6: SettingWithCopyWarning: \n",
      "A value is trying to be set on a copy of a slice from a DataFrame.\n",
      "Try using .loc[row_indexer,col_indexer] = value instead\n",
      "\n",
      "See the caveats in the documentation: https://pandas.pydata.org/pandas-docs/stable/user_guide/indexing.html#returning-a-view-versus-a-copy\n",
      "  d['matched_abstract'] = d['abstract'].apply(lambda x: fuzzy_match(x, m['panel_keywords']))\n"
     ]
    },
    {
     "name": "stdout",
     "output_type": "stream",
     "text": [
      "ENV\n"
     ]
    },
    {
     "name": "stderr",
     "output_type": "stream",
     "text": [
      "C:\\Users\\zfriant\\AppData\\Local\\Temp\\ipykernel_26000\\511969227.py:5: SettingWithCopyWarning: \n",
      "A value is trying to be set on a copy of a slice from a DataFrame.\n",
      "Try using .loc[row_indexer,col_indexer] = value instead\n",
      "\n",
      "See the caveats in the documentation: https://pandas.pydata.org/pandas-docs/stable/user_guide/indexing.html#returning-a-view-versus-a-copy\n",
      "  d['matched_panel_keyword'] = d['free_keywords'].apply(lambda x: fuzzy_match(x, m['panel_keywords']))\n",
      "C:\\Users\\zfriant\\AppData\\Local\\Temp\\ipykernel_26000\\511969227.py:6: SettingWithCopyWarning: \n",
      "A value is trying to be set on a copy of a slice from a DataFrame.\n",
      "Try using .loc[row_indexer,col_indexer] = value instead\n",
      "\n",
      "See the caveats in the documentation: https://pandas.pydata.org/pandas-docs/stable/user_guide/indexing.html#returning-a-view-versus-a-copy\n",
      "  d['matched_abstract'] = d['abstract'].apply(lambda x: fuzzy_match(x, m['panel_keywords']))\n"
     ]
    },
    {
     "name": "stdout",
     "output_type": "stream",
     "text": [
      "LIF\n"
     ]
    },
    {
     "name": "stderr",
     "output_type": "stream",
     "text": [
      "C:\\Users\\zfriant\\AppData\\Local\\Temp\\ipykernel_26000\\511969227.py:5: SettingWithCopyWarning: \n",
      "A value is trying to be set on a copy of a slice from a DataFrame.\n",
      "Try using .loc[row_indexer,col_indexer] = value instead\n",
      "\n",
      "See the caveats in the documentation: https://pandas.pydata.org/pandas-docs/stable/user_guide/indexing.html#returning-a-view-versus-a-copy\n",
      "  d['matched_panel_keyword'] = d['free_keywords'].apply(lambda x: fuzzy_match(x, m['panel_keywords']))\n",
      "C:\\Users\\zfriant\\AppData\\Local\\Temp\\ipykernel_26000\\511969227.py:6: SettingWithCopyWarning: \n",
      "A value is trying to be set on a copy of a slice from a DataFrame.\n",
      "Try using .loc[row_indexer,col_indexer] = value instead\n",
      "\n",
      "See the caveats in the documentation: https://pandas.pydata.org/pandas-docs/stable/user_guide/indexing.html#returning-a-view-versus-a-copy\n",
      "  d['matched_abstract'] = d['abstract'].apply(lambda x: fuzzy_match(x, m['panel_keywords']))\n"
     ]
    },
    {
     "name": "stdout",
     "output_type": "stream",
     "text": [
      "ECO\n"
     ]
    },
    {
     "name": "stderr",
     "output_type": "stream",
     "text": [
      "C:\\Users\\zfriant\\AppData\\Local\\Temp\\ipykernel_26000\\511969227.py:5: SettingWithCopyWarning: \n",
      "A value is trying to be set on a copy of a slice from a DataFrame.\n",
      "Try using .loc[row_indexer,col_indexer] = value instead\n",
      "\n",
      "See the caveats in the documentation: https://pandas.pydata.org/pandas-docs/stable/user_guide/indexing.html#returning-a-view-versus-a-copy\n",
      "  d['matched_panel_keyword'] = d['free_keywords'].apply(lambda x: fuzzy_match(x, m['panel_keywords']))\n",
      "C:\\Users\\zfriant\\AppData\\Local\\Temp\\ipykernel_26000\\511969227.py:6: SettingWithCopyWarning: \n",
      "A value is trying to be set on a copy of a slice from a DataFrame.\n",
      "Try using .loc[row_indexer,col_indexer] = value instead\n",
      "\n",
      "See the caveats in the documentation: https://pandas.pydata.org/pandas-docs/stable/user_guide/indexing.html#returning-a-view-versus-a-copy\n",
      "  d['matched_abstract'] = d['abstract'].apply(lambda x: fuzzy_match(x, m['panel_keywords']))\n"
     ]
    },
    {
     "name": "stdout",
     "output_type": "stream",
     "text": [
      "MAT\n"
     ]
    },
    {
     "name": "stderr",
     "output_type": "stream",
     "text": [
      "C:\\Users\\zfriant\\AppData\\Local\\Temp\\ipykernel_26000\\511969227.py:5: SettingWithCopyWarning: \n",
      "A value is trying to be set on a copy of a slice from a DataFrame.\n",
      "Try using .loc[row_indexer,col_indexer] = value instead\n",
      "\n",
      "See the caveats in the documentation: https://pandas.pydata.org/pandas-docs/stable/user_guide/indexing.html#returning-a-view-versus-a-copy\n",
      "  d['matched_panel_keyword'] = d['free_keywords'].apply(lambda x: fuzzy_match(x, m['panel_keywords']))\n",
      "C:\\Users\\zfriant\\AppData\\Local\\Temp\\ipykernel_26000\\511969227.py:6: SettingWithCopyWarning: \n",
      "A value is trying to be set on a copy of a slice from a DataFrame.\n",
      "Try using .loc[row_indexer,col_indexer] = value instead\n",
      "\n",
      "See the caveats in the documentation: https://pandas.pydata.org/pandas-docs/stable/user_guide/indexing.html#returning-a-view-versus-a-copy\n",
      "  d['matched_abstract'] = d['abstract'].apply(lambda x: fuzzy_match(x, m['panel_keywords']))\n"
     ]
    }
   ],
   "source": [
    "for pan in df.panel_code.unique():\n",
    "    print(pan)\n",
    "    m=msca_key.loc[msca_key.panel_regroupement_code==pan]\n",
    "    d=df.loc[df.panel_code==pan]\n",
    "    d['matched_panel_keyword'] = d['free_keywords'].apply(lambda x: fuzzy_match(x, m['panel_keywords']))\n",
    "    d['matched_abstract'] = d['abstract'].apply(lambda x: fuzzy_match(x, m['panel_keywords']))\n",
    "    globals()[f'{pan}'] = d\n",
    "\n"
   ]
  },
  {
   "cell_type": "code",
   "execution_count": 62,
   "id": "56a035db",
   "metadata": {},
   "outputs": [
    {
     "data": {
      "text/html": [
       "<div>\n",
       "<style scoped>\n",
       "    .dataframe tbody tr th:only-of-type {\n",
       "        vertical-align: middle;\n",
       "    }\n",
       "\n",
       "    .dataframe tbody tr th {\n",
       "        vertical-align: top;\n",
       "    }\n",
       "\n",
       "    .dataframe thead th {\n",
       "        text-align: right;\n",
       "    }\n",
       "</style>\n",
       "<table border=\"1\" class=\"dataframe\">\n",
       "  <thead>\n",
       "    <tr style=\"text-align: right;\">\n",
       "      <th></th>\n",
       "      <th>project_id</th>\n",
       "      <th>panel_code</th>\n",
       "      <th>free_keywords</th>\n",
       "      <th>abstract</th>\n",
       "      <th>free_keyw</th>\n",
       "      <th>matched_panel_keyword</th>\n",
       "      <th>matched_abstract</th>\n",
       "    </tr>\n",
       "  </thead>\n",
       "  <tbody>\n",
       "    <tr>\n",
       "      <th>0</th>\n",
       "      <td>101068827</td>\n",
       "      <td>CHE</td>\n",
       "      <td>PROTAC|DNMT inhibitors|Epigenetics|Multiple My...</td>\n",
       "      <td>the dnmtac mm project aims at the development ...</td>\n",
       "      <td>[protac, dnmt inhibitors, epigenetics, multipl...</td>\n",
       "      <td>None</td>\n",
       "      <td>organic chemistry</td>\n",
       "    </tr>\n",
       "    <tr>\n",
       "      <th>14</th>\n",
       "      <td>101109200</td>\n",
       "      <td>CHE</td>\n",
       "      <td>Cheese|matrix effect|milk fat globule membrane...</td>\n",
       "      <td>the current global cheese market is valued at ...</td>\n",
       "      <td>[cheese, matrix effect, milk fat globule membr...</td>\n",
       "      <td>None</td>\n",
       "      <td>None</td>\n",
       "    </tr>\n",
       "    <tr>\n",
       "      <th>21</th>\n",
       "      <td>101059439</td>\n",
       "      <td>CHE</td>\n",
       "      <td>Reaction Prediction|Machine Learning|Chemoenzy...</td>\n",
       "      <td>enzymatic transformations are characterized by...</td>\n",
       "      <td>[reaction prediction, machine learning, chemoe...</td>\n",
       "      <td>None</td>\n",
       "      <td>natural product synthesis</td>\n",
       "    </tr>\n",
       "    <tr>\n",
       "      <th>61</th>\n",
       "      <td>101061458</td>\n",
       "      <td>CHE</td>\n",
       "      <td>ATPase|Enzyme Design|Shortest Path Maps|Mutage...</td>\n",
       "      <td>project atpconf aim to search for the conforma...</td>\n",
       "      <td>[atpase, enzyme design, shortest path maps, mu...</td>\n",
       "      <td>None</td>\n",
       "      <td>molecular dynamics</td>\n",
       "    </tr>\n",
       "    <tr>\n",
       "      <th>68</th>\n",
       "      <td>101106997</td>\n",
       "      <td>CHE</td>\n",
       "      <td>Lytic Polysaccharide Monooxygenases|QM|MM meth...</td>\n",
       "      <td>as the eu is committed to becoming the world s...</td>\n",
       "      <td>[lytic polysaccharide monooxygenases, qm, mm m...</td>\n",
       "      <td>None</td>\n",
       "      <td>environment chemistry</td>\n",
       "    </tr>\n",
       "    <tr>\n",
       "      <th>...</th>\n",
       "      <td>...</td>\n",
       "      <td>...</td>\n",
       "      <td>...</td>\n",
       "      <td>...</td>\n",
       "      <td>...</td>\n",
       "      <td>...</td>\n",
       "      <td>...</td>\n",
       "    </tr>\n",
       "    <tr>\n",
       "      <th>134587</th>\n",
       "      <td>101199480</td>\n",
       "      <td>CHE</td>\n",
       "      <td>nanoplatelets|colloidal quantum dots|colloidal...</td>\n",
       "      <td>through the syroco project  my objective is to...</td>\n",
       "      <td>[nanoplatelets, colloidal quantum dots, colloi...</td>\n",
       "      <td>None</td>\n",
       "      <td>physical chemistry</td>\n",
       "    </tr>\n",
       "    <tr>\n",
       "      <th>134992</th>\n",
       "      <td>101227305</td>\n",
       "      <td>CHE</td>\n",
       "      <td>Multivalent interactions|Glycan|Optical micros...</td>\n",
       "      <td>virtually all mammalian cells are covered with...</td>\n",
       "      <td>[multivalent interactions, glycan, optical mic...</td>\n",
       "      <td>microscopy</td>\n",
       "      <td>molecular biology</td>\n",
       "    </tr>\n",
       "    <tr>\n",
       "      <th>135110</th>\n",
       "      <td>101064371</td>\n",
       "      <td>CHE</td>\n",
       "      <td>flow chemistry|heterogeneous catalysis|single-...</td>\n",
       "      <td>the increase in global energy consumption has ...</td>\n",
       "      <td>[flow chemistry, heterogeneous catalysis, sing...</td>\n",
       "      <td>catalysis</td>\n",
       "      <td>None</td>\n",
       "    </tr>\n",
       "    <tr>\n",
       "      <th>135155</th>\n",
       "      <td>101202441</td>\n",
       "      <td>CHE</td>\n",
       "      <td>Mechanophores|Activated carboxylic acids|Polym...</td>\n",
       "      <td>actimech aims to establish a groundbreaking cl...</td>\n",
       "      <td>[mechanophores, activated carboxylic acids, po...</td>\n",
       "      <td>None</td>\n",
       "      <td>organic chemistry</td>\n",
       "    </tr>\n",
       "    <tr>\n",
       "      <th>135177</th>\n",
       "      <td>101204871</td>\n",
       "      <td>CHE</td>\n",
       "      <td>Untargeted screening|food contact materials|ma...</td>\n",
       "      <td>there are two clear trends in the food industr...</td>\n",
       "      <td>[untargeted screening, food contact materials,...</td>\n",
       "      <td>None</td>\n",
       "      <td>None</td>\n",
       "    </tr>\n",
       "  </tbody>\n",
       "</table>\n",
       "<p>5433 rows × 7 columns</p>\n",
       "</div>"
      ],
      "text/plain": [
       "       project_id panel_code  \\\n",
       "0       101068827        CHE   \n",
       "14      101109200        CHE   \n",
       "21      101059439        CHE   \n",
       "61      101061458        CHE   \n",
       "68      101106997        CHE   \n",
       "...           ...        ...   \n",
       "134587  101199480        CHE   \n",
       "134992  101227305        CHE   \n",
       "135110  101064371        CHE   \n",
       "135155  101202441        CHE   \n",
       "135177  101204871        CHE   \n",
       "\n",
       "                                            free_keywords  \\\n",
       "0       PROTAC|DNMT inhibitors|Epigenetics|Multiple My...   \n",
       "14      Cheese|matrix effect|milk fat globule membrane...   \n",
       "21      Reaction Prediction|Machine Learning|Chemoenzy...   \n",
       "61      ATPase|Enzyme Design|Shortest Path Maps|Mutage...   \n",
       "68      Lytic Polysaccharide Monooxygenases|QM|MM meth...   \n",
       "...                                                   ...   \n",
       "134587  nanoplatelets|colloidal quantum dots|colloidal...   \n",
       "134992  Multivalent interactions|Glycan|Optical micros...   \n",
       "135110  flow chemistry|heterogeneous catalysis|single-...   \n",
       "135155  Mechanophores|Activated carboxylic acids|Polym...   \n",
       "135177  Untargeted screening|food contact materials|ma...   \n",
       "\n",
       "                                                 abstract  \\\n",
       "0       the dnmtac mm project aims at the development ...   \n",
       "14      the current global cheese market is valued at ...   \n",
       "21      enzymatic transformations are characterized by...   \n",
       "61      project atpconf aim to search for the conforma...   \n",
       "68      as the eu is committed to becoming the world s...   \n",
       "...                                                   ...   \n",
       "134587  through the syroco project  my objective is to...   \n",
       "134992  virtually all mammalian cells are covered with...   \n",
       "135110  the increase in global energy consumption has ...   \n",
       "135155  actimech aims to establish a groundbreaking cl...   \n",
       "135177  there are two clear trends in the food industr...   \n",
       "\n",
       "                                                free_keyw  \\\n",
       "0       [protac, dnmt inhibitors, epigenetics, multipl...   \n",
       "14      [cheese, matrix effect, milk fat globule membr...   \n",
       "21      [reaction prediction, machine learning, chemoe...   \n",
       "61      [atpase, enzyme design, shortest path maps, mu...   \n",
       "68      [lytic polysaccharide monooxygenases, qm, mm m...   \n",
       "...                                                   ...   \n",
       "134587  [nanoplatelets, colloidal quantum dots, colloi...   \n",
       "134992  [multivalent interactions, glycan, optical mic...   \n",
       "135110  [flow chemistry, heterogeneous catalysis, sing...   \n",
       "135155  [mechanophores, activated carboxylic acids, po...   \n",
       "135177  [untargeted screening, food contact materials,...   \n",
       "\n",
       "       matched_panel_keyword           matched_abstract  \n",
       "0                       None          organic chemistry  \n",
       "14                      None                       None  \n",
       "21                      None  natural product synthesis  \n",
       "61                      None         molecular dynamics  \n",
       "68                      None      environment chemistry  \n",
       "...                      ...                        ...  \n",
       "134587                  None         physical chemistry  \n",
       "134992            microscopy          molecular biology  \n",
       "135110             catalysis                       None  \n",
       "135155                  None          organic chemistry  \n",
       "135177                  None                       None  \n",
       "\n",
       "[5433 rows x 7 columns]"
      ]
     },
     "execution_count": 62,
     "metadata": {},
     "output_type": "execute_result"
    }
   ],
   "source": [
    "CHE"
   ]
  },
  {
   "cell_type": "code",
   "execution_count": 55,
   "id": "93bf9e67",
   "metadata": {},
   "outputs": [
    {
     "data": {
      "text/html": [
       "<div>\n",
       "<style scoped>\n",
       "    .dataframe tbody tr th:only-of-type {\n",
       "        vertical-align: middle;\n",
       "    }\n",
       "\n",
       "    .dataframe tbody tr th {\n",
       "        vertical-align: top;\n",
       "    }\n",
       "\n",
       "    .dataframe thead th {\n",
       "        text-align: right;\n",
       "    }\n",
       "</style>\n",
       "<table border=\"1\" class=\"dataframe\">\n",
       "  <thead>\n",
       "    <tr style=\"text-align: right;\">\n",
       "      <th></th>\n",
       "      <th>panel_regroupement_code</th>\n",
       "      <th>panel_regroupement_name</th>\n",
       "      <th>panel_code_1</th>\n",
       "      <th>panel_name_1</th>\n",
       "      <th>panel_keywords</th>\n",
       "    </tr>\n",
       "  </thead>\n",
       "  <tbody>\n",
       "  </tbody>\n",
       "</table>\n",
       "</div>"
      ],
      "text/plain": [
       "Empty DataFrame\n",
       "Columns: [panel_regroupement_code, panel_regroupement_name, panel_code_1, panel_name_1, panel_keywords]\n",
       "Index: []"
      ]
     },
     "execution_count": 55,
     "metadata": {},
     "output_type": "execute_result"
    }
   ],
   "source": [
    "msca_key[(msca_key.panel_regroupement_code=='CHE')&(msca_key.panel_keywords.str.contains('aptase'))]"
   ]
  },
  {
   "cell_type": "code",
   "execution_count": 4,
   "id": "4683533e",
   "metadata": {},
   "outputs": [
    {
     "name": "stdout",
     "output_type": "stream",
     "text": [
      "Match score: 50.0\n"
     ]
    }
   ],
   "source": [
    "from rapidfuzz import fuzz\n",
    "\n",
    "str1 = \"lgi consulting\".lower()\n",
    "str2 = \"lgi sustainable innovation\"\n",
    "\n",
    "score = fuzz.ratio(str1, str2)\n",
    "print(f\"Match score: {score}\")"
   ]
  },
  {
   "cell_type": "code",
   "execution_count": 64,
   "id": "493b3709",
   "metadata": {},
   "outputs": [
    {
     "name": "stdout",
     "output_type": "stream",
     "text": [
      "La meilleure correspondance pour '['pomme fruit', 'salade fruits', 'glace chocolat']' est 'Salade de fruits' avec un score de 90.\n"
     ]
    }
   ],
   "source": [
    "from fuzzywuzzy import fuzz\n",
    "\n",
    "# Liste de chaînes de caractères dans laquelle chercher\n",
    "list_of_strings = [\n",
    "    \"Pomme de terre\",\n",
    "    \"Jus d'orange\",\n",
    "    \"Salade de fruits\",\n",
    "    \"Tarte aux pommes\",\n",
    "    \"Glace à la vanille\"\n",
    "]\n",
    "\n",
    "# Chaîne de recherche composée de plusieurs mots\n",
    "search_string = [\"pomme fruit\", \"salade fruits\", \"glace chocolat\"]\n",
    "\n",
    "# Fonction pour trouver la meilleure correspondance\n",
    "def find_best_match(search_string, list_of_strings):\n",
    "    best_match = None\n",
    "    highest_score = 0\n",
    "    for s in list_of_strings:\n",
    "        score = fuzz.token_set_ratio(search_string, s)\n",
    "        if score > highest_score:\n",
    "            highest_score = score\n",
    "            best_match = s\n",
    "    return best_match, highest_score\n",
    "\n",
    "# Trouver la meilleure correspondance\n",
    "best_match, score = find_best_match(search_string, list_of_strings)\n",
    "\n",
    "print(f\"La meilleure correspondance pour '{search_string}' est '{best_match}' avec un score de {score}.\")\n"
   ]
  },
  {
   "cell_type": "code",
   "execution_count": 67,
   "id": "24f3f965",
   "metadata": {},
   "outputs": [
    {
     "name": "stdout",
     "output_type": "stream",
     "text": [
      "La meilleure correspondance pour 'pomme & fruit' est 'Pomme de terre' avec un score de 62.\n",
      "La meilleure correspondance pour 'salade de fruits' est 'Salade de fruits' avec un score de 100.\n",
      "La meilleure correspondance pour 'glace chocolat' est 'Glace à la vanille' avec un score de 53.\n"
     ]
    }
   ],
   "source": [
    "from fuzzywuzzy import fuzz\n",
    "\n",
    "# Liste de chaînes de caractères dans laquelle chercher\n",
    "list_of_strings = [\n",
    "    \"Pomme de terre\",\n",
    "    \"Jus d'orange\",\n",
    "    \"Salade de fruits\",\n",
    "    \"Tarte aux pommes\",\n",
    "    \"Glace à la vanille\"\n",
    "]\n",
    "\n",
    "# Liste de chaînes de recherche\n",
    "search_strings = [\"pomme & fruit\", \"salade de fruits\", \"glace chocolat\"]\n",
    "\n",
    "# Fonction pour trouver la meilleure correspondance pour un seul item\n",
    "def find_best_match(search_string, list_of_strings):\n",
    "    best_match = None\n",
    "    highest_score = 0\n",
    "    for s in list_of_strings:\n",
    "        score = fuzz.token_set_ratio(search_string, s)\n",
    "        if score > highest_score:\n",
    "            highest_score = score\n",
    "            best_match = s\n",
    "    return best_match, highest_score\n",
    "\n",
    "# Trouver la meilleure correspondance pour chaque item dans search_strings\n",
    "best_matches = {}\n",
    "for search_string in search_strings:\n",
    "    best_match, score = find_best_match(search_string, list_of_strings)\n",
    "    best_matches[search_string] = (best_match, score)\n",
    "\n",
    "# Afficher les résultats\n",
    "for search_string, (best_match, score) in best_matches.items():\n",
    "    print(f\"La meilleure correspondance pour '{search_string}' est '{best_match}' avec un score de {score}.\")\n"
   ]
  },
  {
   "cell_type": "code",
   "execution_count": 69,
   "id": "294d24d4",
   "metadata": {},
   "outputs": [
    {
     "name": "stdout",
     "output_type": "stream",
     "text": [
      "The best match for 'pomme fruit' is 'Pomme de terre' with a score of 62.\n",
      "The best match for 'salade fruits' is 'Salade de fruits' with a score of 100.\n",
      "The best match for 'glace chocolat, pomme poire' is 'Pomme de terre' with a score of 53.\n",
      "The best match for 'jus orange' is 'Jus d'orange' with a score of 100.\n",
      "The best match for 'jus' is 'Jus d'orange' with a score of 100.\n"
     ]
    }
   ],
   "source": [
    "from fuzzywuzzy import fuzz\n",
    "\n",
    "# List of strings to search within\n",
    "list_of_strings = [\n",
    "    \"Pomme de terre\",\n",
    "    \"Jus d'orange\",\n",
    "    \"Salade de fruits\",\n",
    "    \"Tarte aux pommes\",\n",
    "    \"Glace à la vanille\"\n",
    "]\n",
    "\n",
    "# List of search strings\n",
    "search_strings = [\"pomme fruit\", \"salade fruits\", \"glace chocolat, pomme poire\", \"jus orange\", \"jus\"]\n",
    "\n",
    "# Function to tokenize a string\n",
    "def tokenize(string):\n",
    "    return string.lower().split()\n",
    "\n",
    "# Function to find the best match using tokenization\n",
    "def find_best_match_with_tokenization(search_string, list_of_strings):\n",
    "    best_match = None\n",
    "    highest_score = 0\n",
    "    search_tokens = tokenize(search_string)\n",
    "\n",
    "    for s in list_of_strings:\n",
    "        s_tokens = tokenize(s)\n",
    "        # Calculate the fuzzy match score using token set ratio\n",
    "        score = fuzz.token_set_ratio(search_string, s)\n",
    "        if score > highest_score:\n",
    "            highest_score = score\n",
    "            best_match = s\n",
    "    return best_match, highest_score\n",
    "\n",
    "# Find the best match for each item in search_strings\n",
    "best_matches = {}\n",
    "for search_string in search_strings:\n",
    "    best_match, score = find_best_match_with_tokenization(search_string, list_of_strings)\n",
    "    best_matches[search_string] = (best_match, score)\n",
    "\n",
    "# Display the results\n",
    "for search_string, (best_match, score) in best_matches.items():\n",
    "    print(f\"The best match for '{search_string}' is '{best_match}' with a score of {score}.\")\n",
    "\n"
   ]
  }
 ],
 "metadata": {
  "kernelspec": {
   "display_name": ".venv",
   "language": "python",
   "name": "python3"
  },
  "language_info": {
   "codemirror_mode": {
    "name": "ipython",
    "version": 3
   },
   "file_extension": ".py",
   "mimetype": "text/x-python",
   "name": "python",
   "nbconvert_exporter": "python",
   "pygments_lexer": "ipython3",
   "version": "3.13.0"
  }
 },
 "nbformat": 4,
 "nbformat_minor": 5
}
