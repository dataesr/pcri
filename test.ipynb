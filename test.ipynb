{
 "cells": [
  {
   "cell_type": "code",
   "execution_count": 2,
   "metadata": {},
   "outputs": [],
   "source": [
    "def openalex_orcid(author):\n",
    "    from config_api import openalex_usermail\n",
    "    import requests, time\n",
    "    try:\n",
    "        url = f\"https://api.openalex.org/authors/orcid:{author.get('orcid')}?mailto={openalex_usermail}\"\n",
    "        author_openalex = requests.get(url).json()\n",
    "        result = author | {'display_name':author_openalex.get('display_name'), \n",
    "                           'openalex_id':author_openalex.get('id'), \n",
    "                           'affiliations':author_openalex.get('affiliations'), \n",
    "                           'institutions':author_openalex.get('affiliations')[0].get('institutions'),\n",
    "                           'institutions_years':author_openalex.get('affiliations')[0].get('years'), \n",
    "                           'topics':author_openalex.get('topics'),  \n",
    "                           'x_concepts':author_openalex.get('x_concepts'), \n",
    "                           'ids':author_openalex.get('ids'), \n",
    "                           'display_name_alternatives':author_openalex.get('display_name_alternatives')}\n",
    "        return result\n",
    "    \n",
    "    except requests.exceptions.HTTPError as http_err:\n",
    "        print(f\"\\n{time.strftime(\"%H:%M:%S\")}, {author}-> HTTP error occurred: {http_err}\")\n",
    "    except requests.exceptions.RequestException as err:\n",
    "        print(f\"\\n{time.strftime(\"%H:%M:%S\")}, {author}-> Error occurred: {err}\")                    \n",
    "    except Exception as e:\n",
    "        print(f\"\\n{time.strftime(\"%H:%M:%S\")}, {author}-> An unexpected error occurred: {e}\")"
   ]
  },
  {
   "cell_type": "code",
   "execution_count": 39,
   "metadata": {},
   "outputs": [],
   "source": [
    "import pandas as pd\n",
    "df=pd.DataFrame()"
   ]
  },
  {
   "cell_type": "code",
   "execution_count": null,
   "metadata": {},
   "outputs": [],
   "source": [
    "df"
   ]
  },
  {
   "cell_type": "code",
   "execution_count": null,
   "metadata": {},
   "outputs": [],
   "source": [
    "import requests\n",
    "author = {\n",
    "\"name\": 'adraoui mohamed-ali',\n",
    "\"orcid\": '0000-0001-5602-8625'\n",
    "}\n",
    "url = f\"https://api.openalex.org/authors?filter=display_name.search:{author.get('name')}\"\n",
    "nb_openalex=requests.get(url).json().get(\"meta\").get('count')\n",
    "if nb_openalex>0:\n",
    "    for n in range(nb_openalex):\n",
    "        print(n)\n",
    "        author_openalex = requests.get(url).json().get(\"results\")[n]\n",
    "        result = author | {'display_name':author_openalex.get('display_name'),\n",
    "                        'openalex_id':author_openalex.get('id'), \n",
    "                        'affiliations':author_openalex.get('affiliations'), \n",
    "                        'topics':author_openalex.get('topics'), \n",
    "                        'x_concepts':author_openalex.get('x_concepts'), \n",
    "                        'ids':author_openalex.get('ids'), \n",
    "                'display_name_alternatives':author_openalex.get('display_name_alternatives')}"
   ]
  },
  {
   "cell_type": "code",
   "execution_count": null,
   "metadata": {},
   "outputs": [],
   "source": [
    "data = [\n",
    "    {\n",
    "        \"state\": \"Florida\",\n",
    "        \"shortname\": \"FL\",\n",
    "        \"info\": {\"governor\": \"Rick Scott\"},\n",
    "        \"counties\": [\n",
    "            {\"name\": \"Dade\", \"population\": 12345},\n",
    "            {\"name\": \"Broward\", \"population\": 40000},\n",
    "            {\"name\": \"Palm Beach\", \"population\": 60000},\n",
    "        ],\n",
    "    },\n",
    "    {\n",
    "        \"state\": \"Ohio\",\n",
    "        \"shortname\": \"OH\",\n",
    "        \"info\": {\"governor\": \"John Kasich\"},\n",
    "        \"counties\": [\n",
    "            {\"name\": \"Summit\", \"population\": 1234},\n",
    "            {\"name\": \"Cuyahoga\", \"population\": 1337},\n",
    "        ],\n",
    "    },\n",
    "]\n",
    "data"
   ]
  },
  {
   "cell_type": "code",
   "execution_count": null,
   "metadata": {},
   "outputs": [],
   "source": [
    "def openalex_name(author):\n",
    "    url = f\"https://api.openalex.org/authors?filter=display_name.search:{author.get('name')}\"\n",
    "    nb_openalex=requests.get(url).json().get(\"meta\").get('count')\n",
    "    result={}\n",
    "    if nb_openalex>0:\n",
    "        for n in range(nb_openalex): \n",
    "            author_openalex = requests.get(url).json().get(\"results\")[n]\n",
    "            result.update({'display_name':author_openalex.get('display_name'), 'openalex_id':author_openalex.get('id'), 'affiliations':author_openalex.get('affiliations'), 'topics':author_openalex.get('topics'),  'x_concepts':author_openalex.get('x_concepts'), 'ids':author_openalex.get('ids'), 'display_name_alternatives':author_openalex.get('display_name_alternatives')})\n",
    "            author.update(result)\n",
    "            df=pd.concat([df, pd.json_normalize(author)])\n",
    "    return df"
   ]
  },
  {
   "cell_type": "code",
   "execution_count": null,
   "metadata": {},
   "outputs": [],
   "source": [
    "from config_path import PATH_API\n",
    "import os, pandas as pd\n",
    " \n",
    "\n",
    "for racine, repertoires, fichiers in os.walk(PATH_API):\n",
    "    print(f\"{racine}, {repertoires}, {fichiers}\")\n",
    "    for fichier in fichiers:\n",
    "        if fichier.startswith('persons'):\n",
    "            print(os.path.join(racine, fichier))\n",
    "            globals()[f\"{fichier}\"]= pd.read_pickle(os.path.join(racine, fichier))\n"
   ]
  },
  {
   "cell_type": "code",
   "execution_count": null,
   "metadata": {},
   "outputs": [],
   "source": [
    "fl=['persons_author.pkl', 'persons_author_10000.pkl', 'persons_author_12000.pkl', 'persons_author_2000.pkl', 'persons_author_4000.pkl', 'persons_author_6000.pkl', 'persons_author_8000.pkl', 'persons_author_name.pkl', 'persons_author_orcid.pkl']\n",
    "for racine, repertoires, fichiers in os.walk(PATH_API):\n",
    "    for i in fl:\n",
    "        name=f\"{i}\".split('.')[0]\n",
    "        print(name)\n",
    "        globals()[name] = pd.read_pickle(os.path.join(racine, fichier))"
   ]
  },
  {
   "cell_type": "code",
   "execution_count": 19,
   "metadata": {},
   "outputs": [],
   "source": [
    "pers=pd.concat([persons_author_10000, persons_author_12000, persons_author_2000, persons_author_4000, persons_author_6000, persons_author_8000], ignore_index=True)\n",
    "\n",
    "fl=['persons_author.pkl', 'persons_author_name.pkl', 'persons_author_orcid.pkl']"
   ]
  },
  {
   "cell_type": "code",
   "execution_count": 34,
   "metadata": {},
   "outputs": [],
   "source": [
    "def openalex_orcid(author):\n",
    "    # from config_api import openalex_usermail\n",
    "    import requests, time\n",
    "    try:\n",
    "        url = f\"https://api.openalex.org/authors/orcid:{author.get('orcid')}?mailto=zmenesr@gmail.com\"\n",
    "        author_openalex = requests.get(url).json()\n",
    "        result = author | {'display_name':author_openalex.get('display_name'), \n",
    "                           'openalex_id':author_openalex.get('id'), \n",
    "                           'affiliations':author_openalex.get('affiliations'), \n",
    "                           'topics':author_openalex.get('topics'),  \n",
    "                           'x_concepts':author_openalex.get('x_concepts'), \n",
    "                           'ids':author_openalex.get('ids'), \n",
    "                           'display_name_alternatives':author_openalex.get('display_name_alternatives'),\n",
    "                           'match':'orcid'}\n",
    "        return result\n",
    "    \n",
    "    except requests.exceptions.HTTPError as http_err:\n",
    "        print(f\"\\n{time.strftime(\"%H:%M:%S\")}, {author}-> HTTP error occurred: {http_err}\")\n",
    "        return author\n",
    "    except requests.exceptions.RequestException as err:\n",
    "        print(f\"\\n{time.strftime(\"%H:%M:%S\")}, {author}-> Error occurred: {err}\")\n",
    "        return author           \n",
    "    except Exception as e:\n",
    "        print(f\"\\n{time.strftime(\"%H:%M:%S\")}, {author}-> An unexpected error occurred: {e}\")\n",
    "        return author"
   ]
  },
  {
   "cell_type": "code",
   "execution_count": 105,
   "metadata": {},
   "outputs": [],
   "source": [
    "def openalex_name(author):\n",
    "    import time\n",
    "    try:\n",
    "        url = f\"https://api.openalex.org/authors?filter=display_name.search:{author.get('name')}\"\n",
    "        nb_openalex=requests.get(url).json().get(\"meta\").get('count')\n",
    "        dl=[]\n",
    "        if nb_openalex>0:\n",
    "            print(nb_openalex)\n",
    "            for n in range(nb_openalex): \n",
    "                author_openalex = requests.get(url).json().get(\"results\")[n]\n",
    "                if author_openalex.get('affiliations')!=[]:\n",
    "                    result=author | {'display_name':author_openalex.get('display_name'), \n",
    "                                    'openalex_id':author_openalex.get('id'), \n",
    "                                    'affiliations':author_openalex.get('affiliations'),\n",
    "                                    'topics':author_openalex.get('topics'),\n",
    "                                    'x_concepts':author_openalex.get('x_concepts'), \n",
    "                                    'ids':author_openalex.get('ids'), \n",
    "                                    'display_name_alternatives':author_openalex.get('display_name_alternatives'),\n",
    "                                    'match':'name'}\n",
    "                    dl.append(result)\n",
    "        return dl\n",
    "    \n",
    "    except requests.exceptions.HTTPError as http_err:\n",
    "        print(f\"\\n{time.strftime(\"%H:%M:%S\")}, {author}-> HTTP error occurred: {http_err}\")\n",
    "        return author\n",
    "    except requests.exceptions.RequestException as err:\n",
    "        print(f\"\\n{time.strftime(\"%H:%M:%S\")}, {author}-> Error occurred: {err}\")\n",
    "        return author           \n",
    "    except Exception as e:\n",
    "        print(f\"\\n{time.strftime(\"%H:%M:%S\")}, {author}-> An unexpected error occurred: {e}\")\n",
    "        return author\n",
    "    "
   ]
  },
  {
   "cell_type": "code",
   "execution_count": 145,
   "metadata": {},
   "outputs": [],
   "source": [
    "def chunkify(df: pd.DataFrame, chunk_size: int):\n",
    "    print(f\"size df: {df.shape}\")\n",
    "    start = 0\n",
    "    length = df.shape[0]\n",
    "    # n_col = df.shape[1]\n",
    "    \n",
    "    # If DF is smaller than the chunk, return the DF\n",
    "    if length <= chunk_size:\n",
    "        yield df[:]\n",
    "        return\n",
    "    # if n_col <= 60:\n",
    "    #     print(f\"nb of cols: {n_col}\")\n",
    "    #     yield df[:]\n",
    "    #     return\n",
    "\n",
    "    # Yield individual chunks\n",
    "    while start + chunk_size <= length:\n",
    "        yield df[start:chunk_size + start]\n",
    "        start = start + chunk_size\n",
    "\n",
    "    # Yield the remainder chunk, if needed\n",
    "    if start < length:\n",
    "        yield df[start:]"
   ]
  },
  {
   "cell_type": "code",
   "execution_count": null,
   "metadata": {},
   "outputs": [],
   "source": [
    "from config_path import PATH_CLEAN\n",
    "# from functions_shared import chunkify\n",
    "perso_part = pd.read_pickle(f\"{PATH_CLEAN}persons_participants.pkl\")\n",
    "# pp = pd.concat([perso_part[['contact', 'orcid_id', 'country_code']].drop_duplicates(), perso_app[['contact', 'orcid_id', 'country_code']].drop_duplicates()], ignore_index=True)\n",
    "pp = perso_part[['contact', 'orcid_id', 'country_code']].fillna('')\n",
    "pp=pp.loc[(pp.country_code=='FRA')].sort_values('orcid_id', ascending=False)\n",
    "pp\n",
    "data_chunks=list(chunkify(pp, 10000))\n",
    "for i in range(0, len(data_chunks)):\n",
    "    print(f\"Loop {i}, size data_chunks: {len(data_chunks)}\")\n",
    "    # print(type(data_chunks))\n",
    "    df_temp = data_chunks[i]\n",
    "    "
   ]
  },
  {
   "cell_type": "code",
   "execution_count": null,
   "metadata": {},
   "outputs": [],
   "source": [
    "pp=pp.sort_values('orcid_id', ascending=False, na_position='last')\n",
    "pp"
   ]
  },
  {
   "cell_type": "code",
   "execution_count": null,
   "metadata": {},
   "outputs": [],
   "source": [
    "rlist=[]\n",
    "for i, row in pp.iterrows():\n",
    "    author = {\n",
    "    \"name\": row['contact'],\n",
    "    \"orcid\": row['orcid_id']\n",
    "    }\n",
    "    if author.get(\"orcid\"):\n",
    "        result = openalex_orcid(author)\n",
    "        if result.get('match'):\n",
    "            rlist.append(result)\n",
    "        else:\n",
    "            result = openalex_name(author)\n",
    "            print(result)\n",
    "            rlist.extend(result)"
   ]
  },
  {
   "cell_type": "code",
   "execution_count": null,
   "metadata": {},
   "outputs": [],
   "source": [
    "import pprint\n",
    "pprint.pprint(rlist)"
   ]
  },
  {
   "cell_type": "code",
   "execution_count": 138,
   "metadata": {},
   "outputs": [],
   "source": [
    "\n",
    "author = {\n",
    "\"name\": 'jeremy peglion',\n",
    "\"orcid\": '0000-0002-5994-829'\n",
    "}\n",
    "\n",
    "def openalex_name(author):\n",
    "    import time\n",
    "    try:\n",
    "        url = f\"https://api.openalex.org/authors?filter=display_name.search:{author.get('name')}\"\n",
    "        nb_openalex=requests.get(url).json().get(\"meta\").get('count')\n",
    "        dl=[]\n",
    "        if nb_openalex>0:\n",
    "            print(nb_openalex)\n",
    "            for n in range(nb_openalex): \n",
    "                author_openalex = requests.get(url).json().get(\"results\")[n]\n",
    "                \n",
    "                if author_openalex.get('affiliations')!=[]:\n",
    "                    \n",
    "                    result=author | {'display_name':author_openalex.get('display_name'), \n",
    "                                    'openalex_id':author_openalex.get('id'), \n",
    "                                    'affiliations':author_openalex.get('affiliations'),\n",
    "                                    'topics':author_openalex.get('topics'),\n",
    "                                    'x_concepts':author_openalex.get('x_concepts'), \n",
    "                                    'ids':author_openalex.get('ids'), \n",
    "                                    'display_name_alternatives':author_openalex.get('display_name_alternatives'),\n",
    "                                    'match':'name'}\n",
    "                    dl.append(result)\n",
    "            return dl\n",
    "    \n",
    "    except requests.exceptions.HTTPError as http_err:\n",
    "        print(f\"\\n{time.strftime(\"%H:%M:%S\")}, {author}-> HTTP error occurred: {http_err}\")\n",
    "        return author\n",
    "    except requests.exceptions.RequestException as err:\n",
    "        print(f\"\\n{time.strftime(\"%H:%M:%S\")}, {author}-> Error occurred: {err}\")\n",
    "        return author           \n",
    "    except Exception as e:\n",
    "        print(f\"\\n{time.strftime(\"%H:%M:%S\")}, {author}-> An unexpected error occurred: {e}\")\n",
    "        return author"
   ]
  },
  {
   "cell_type": "code",
   "execution_count": null,
   "metadata": {},
   "outputs": [],
   "source": [
    "# pd.json_normalize(dl)\n",
    "openalex_orcid(author)"
   ]
  },
  {
   "cell_type": "code",
   "execution_count": null,
   "metadata": {},
   "outputs": [],
   "source": [
    "test=pd.json_normalize(rlist)\n",
    "test[test.orcid=='0000-0002-9931-4610']"
   ]
  }
 ],
 "metadata": {
  "kernelspec": {
   "display_name": ".venv",
   "language": "python",
   "name": "python3"
  },
  "language_info": {
   "codemirror_mode": {
    "name": "ipython",
    "version": 3
   },
   "file_extension": ".py",
   "mimetype": "text/x-python",
   "name": "python",
   "nbconvert_exporter": "python",
   "pygments_lexer": "ipython3",
   "version": "3.13.0"
  }
 },
 "nbformat": 4,
 "nbformat_minor": 2
}
